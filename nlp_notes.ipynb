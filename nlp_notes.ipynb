{
  "cells": [
    {
      "cell_type": "markdown",
      "metadata": {
        "id": "view-in-github",
        "colab_type": "text"
      },
      "source": [
        "<a href=\"https://colab.research.google.com/github/burrittresearch/natural-language-processing/blob/main/nlp_notes.ipynb\" target=\"_parent\"><img src=\"https://colab.research.google.com/assets/colab-badge.svg\" alt=\"Open In Colab\"/></a>"
      ]
    },
    {
      "cell_type": "markdown",
      "metadata": {
        "id": "423a848c"
      },
      "source": [
        "# NLP Notes\n",
        "\n",
        "This notebook includes coding and notes Natural Language Processing (NLP)."
      ],
      "id": "423a848c"
    },
    {
      "cell_type": "markdown",
      "metadata": {
        "id": "a1c1915f"
      },
      "source": [
        "# Project Workflow\n",
        "* Define the Problem\n",
        "* Process Data\n",
        "* NLP Notes"
      ],
      "id": "a1c1915f"
    },
    {
      "cell_type": "markdown",
      "metadata": {
        "id": "Hk8wgETAFZNz"
      },
      "source": [
        "# Define the Problem\n",
        "Create notes for NLP"
      ],
      "id": "Hk8wgETAFZNz"
    },
    {
      "cell_type": "markdown",
      "metadata": {
        "id": "15_L8YkrFkRX"
      },
      "source": [
        "# Process Data"
      ],
      "id": "15_L8YkrFkRX"
    },
    {
      "cell_type": "code",
      "execution_count": 65,
      "metadata": {
        "id": "c1c9c1ba"
      },
      "outputs": [],
      "source": [
        "# Import libraries\n",
        "import matplotlib.pyplot as plt\n",
        "import numpy as np\n",
        "import pandas as pd\n",
        "import seaborn as sns\n",
        "import spacy\n"
      ],
      "id": "c1c9c1ba"
    },
    {
      "cell_type": "code",
      "execution_count": 66,
      "metadata": {
        "id": "i0t-A_uCKwIw"
      },
      "outputs": [],
      "source": [
        "# Set display options\n",
        "pd.set_option('display.max_rows', 50)\n",
        "pd.set_option('display.max_columns', 50)\n",
        "pd.set_option('display.width', 500)\n",
        "pd.set_option('display.colheader_justify', 'left')\n",
        "pd.set_option('display.precision', 3)\n",
        "\n",
        "# Line break utility\n",
        "str_lb = '\\n \\n'"
      ],
      "id": "i0t-A_uCKwIw"
    },
    {
      "cell_type": "markdown",
      "metadata": {
        "id": "dQh5tNEMzV-h"
      },
      "source": [
        "# NLP Notes"
      ],
      "id": "dQh5tNEMzV-h"
    },
    {
      "cell_type": "code",
      "execution_count": 67,
      "metadata": {
        "colab": {
          "base_uri": "https://localhost:8080/"
        },
        "id": "BCdUHf5Huhgl",
        "outputId": "ce64cd50-6a64-4809-e664-8bf4c8934e29"
      },
      "outputs": [
        {
          "output_type": "execute_result",
          "data": {
            "text/plain": [
              "<spacy.lang.en.English at 0x7dd2b202b820>"
            ]
          },
          "metadata": {},
          "execution_count": 67
        }
      ],
      "source": [
        "# Make language object returned by the load() function\n",
        "nlp = spacy.load('en_core_web_sm')\n",
        "nlp"
      ],
      "id": "BCdUHf5Huhgl"
    },
    {
      "cell_type": "code",
      "execution_count": 68,
      "metadata": {
        "colab": {
          "base_uri": "https://localhost:8080/"
        },
        "id": "ZQxu2CSmuhyc",
        "outputId": "9cc1126a-b403-482e-c85d-7ebaa25728b7"
      },
      "outputs": [
        {
          "output_type": "execute_result",
          "data": {
            "text/plain": [
              "spacy.lang.en.English"
            ]
          },
          "metadata": {},
          "execution_count": 68
        }
      ],
      "source": [
        "# Data type of the variable\n",
        "type(nlp)"
      ],
      "id": "ZQxu2CSmuhyc"
    },
    {
      "cell_type": "code",
      "execution_count": 69,
      "metadata": {
        "colab": {
          "base_uri": "https://localhost:8080/"
        },
        "id": "17nHfdFpvgSo",
        "outputId": "ca20af70-5ffb-4d9a-a7ea-79e2089227f8"
      },
      "outputs": [
        {
          "output_type": "stream",
          "name": "stdout",
          "text": [
            "this is about spacy nlp\n",
            "<class 'str'>\n",
            "this is about spacy nlp\n",
            "<class 'spacy.tokens.doc.Doc'>\n"
          ]
        }
      ],
      "source": [
        "# Make str object about spacy\n",
        "str_about = 'this is about spacy nlp'\n",
        "print(str_about)\n",
        "print(type(str_about))\n",
        "\n",
        "# Make token object of spacy string\n",
        "token_str = nlp(str_about)\n",
        "print(token_str)\n",
        "print(type(token_str))\n"
      ],
      "id": "17nHfdFpvgSo"
    },
    {
      "cell_type": "code",
      "execution_count": 70,
      "metadata": {
        "colab": {
          "base_uri": "https://localhost:8080/"
        },
        "id": "VjpeOtTbv0aR",
        "outputId": "6957ce18-2974-441a-d9f5-3484e7c09968"
      },
      "outputs": [
        {
          "output_type": "execute_result",
          "data": {
            "text/plain": [
              "[this, is, about, spacy, nlp]"
            ]
          },
          "metadata": {},
          "execution_count": 70
        }
      ],
      "source": [
        "# Make list of token object\n",
        "lst_token = []\n",
        "for token in token_str:\n",
        "  lst_token.append(token)\n",
        "\n",
        "lst_token"
      ],
      "id": "VjpeOtTbv0aR"
    },
    {
      "cell_type": "code",
      "execution_count": 71,
      "metadata": {
        "colab": {
          "base_uri": "https://localhost:8080/"
        },
        "id": "H7QAKpV_v0fW",
        "outputId": "bccf09c5-dda4-44ba-b026-425a38d4c35d"
      },
      "outputs": [
        {
          "output_type": "execute_result",
          "data": {
            "text/plain": [
              "[this, is, about, spacy, nlp]"
            ]
          },
          "metadata": {},
          "execution_count": 71
        }
      ],
      "source": [
        "# Using list comprehension to do the same thing\n",
        "# More pythonic than loops\n",
        "lst_token = [token for token in token_str]\n",
        "lst_token"
      ],
      "id": "H7QAKpV_v0fW"
    },
    {
      "cell_type": "code",
      "execution_count": 72,
      "metadata": {
        "colab": {
          "base_uri": "https://localhost:8080/"
        },
        "id": "LeGwogdy4uFP",
        "outputId": "1a796ee8-9e1b-424c-ccf7-8954a22ccae2"
      },
      "outputs": [
        {
          "output_type": "stream",
          "name": "stdout",
          "text": [
            "This is sentence 1 and this is sentence 1 continuing. But now this is sentence 2.\n",
            "<class 'str'>\n",
            "This is sentence 1 and this is sentence 1 continuing. But now this is sentence 2.\n",
            "<class 'spacy.tokens.doc.Doc'>\n",
            "18\n"
          ]
        }
      ],
      "source": [
        "# Make str object of sentences\n",
        "str_sent = ('This is sentence 1'\n",
        "  ' and this is sentence 1 continuing. But'\n",
        "  ' now this is sentence 2.'\n",
        ")\n",
        "print(str_sent)\n",
        "print(type(str_sent))\n",
        "\n",
        "# Make token objects of sentences string\n",
        "token_str_sent = nlp(str_sent)\n",
        "print(token_str_sent)\n",
        "print(type(token_str_sent))\n",
        "\n",
        "# Verify length of token objects in the list\n",
        "print(len(token_str_sent))\n"
      ],
      "id": "LeGwogdy4uFP"
    },
    {
      "cell_type": "code",
      "execution_count": 73,
      "metadata": {
        "colab": {
          "base_uri": "https://localhost:8080/"
        },
        "id": "Bsj6-ypYv0ko",
        "outputId": "ac085200-6316-4e6f-a793-cffd64bd8796"
      },
      "outputs": [
        {
          "output_type": "stream",
          "name": "stdout",
          "text": [
            "[This is sentence 1 and this is sentence 1 continuing., But now this is sentence 2.]\n",
            "<class 'list'>\n",
            "2\n"
          ]
        }
      ],
      "source": [
        "# Make list of span objects sentences using .sents property\n",
        "lst_span_str_sent = list(token_str_sent.sents)\n",
        "print(lst_span_str_sent)\n",
        "print(type(lst_span_str_sent))\n",
        "\n",
        "# Verify length of span objects in the list\n",
        "print(len(lst_span_str_sent))"
      ],
      "id": "Bsj6-ypYv0ko"
    },
    {
      "cell_type": "code",
      "execution_count": 74,
      "metadata": {
        "colab": {
          "base_uri": "https://localhost:8080/"
        },
        "id": "v3linT-UWiiu",
        "outputId": "a72a3fe6-806c-4118-8919-82f00ba80b78"
      },
      "outputs": [
        {
          "output_type": "stream",
          "name": "stdout",
          "text": [
            "This is sentence 1 and this is sentence 1 continuing.\n",
            "But now this is sentence 2.\n"
          ]
        }
      ],
      "source": [
        "# Print each sentence\n",
        "for sentence in lst_span_str_sent:\n",
        "  print(sentence)"
      ],
      "id": "v3linT-UWiiu"
    },
    {
      "cell_type": "code",
      "execution_count": 75,
      "metadata": {
        "colab": {
          "base_uri": "https://localhost:8080/"
        },
        "id": "Auydlsawv0q-",
        "outputId": "be95a501-e84a-42b4-8655-08706483741e"
      },
      "outputs": [
        {
          "output_type": "stream",
          "name": "stdout",
          "text": [
            "This is sentence\n",
            "But now this\n"
          ]
        }
      ],
      "source": [
        "# Print first words of each sentence\n",
        "for sentence in lst_span_str_sent:\n",
        "  print(f'{sentence[:3]}')"
      ],
      "id": "Auydlsawv0q-"
    },
    {
      "cell_type": "code",
      "execution_count": 76,
      "metadata": {
        "colab": {
          "base_uri": "https://localhost:8080/",
          "height": 35
        },
        "id": "FLgU-0dv6tT3",
        "outputId": "f754c4e6-6871-473c-cc85-a29b4676a969"
      },
      "outputs": [
        {
          "output_type": "execute_result",
          "data": {
            "text/plain": [
              "'This is sentence 1 and this is sentence 1 continuing. But now this is sentence 2.'"
            ],
            "application/vnd.google.colaboratory.intrinsic+json": {
              "type": "string"
            }
          },
          "metadata": {},
          "execution_count": 76
        }
      ],
      "source": [
        "str_sent"
      ],
      "id": "FLgU-0dv6tT3"
    },
    {
      "cell_type": "code",
      "execution_count": 77,
      "metadata": {
        "id": "9uey_qv_WkA5",
        "colab": {
          "base_uri": "https://localhost:8080/"
        },
        "outputId": "2c8bb848-e241-40a5-be99-813265aa31aa"
      },
      "outputs": [
        {
          "output_type": "stream",
          "name": "stdout",
          "text": [
            "this 0\n",
            "is 5\n",
            "about 8\n",
            "spacy 14\n",
            "nlp 20\n",
            "This 0\n",
            "is 5\n",
            "sentence 8\n",
            "1 17\n",
            "and 19\n",
            "this 23\n",
            "is 28\n",
            "sentence 31\n",
            "1 40\n",
            "continuing 42\n",
            ". 52\n",
            "But 54\n",
            "now 58\n",
            "this 62\n",
            "is 67\n",
            "sentence 70\n",
            "2 79\n",
            ". 80\n"
          ]
        }
      ],
      "source": [
        "# Find out more information about the token list\n",
        "for token in token_str:\n",
        "  print(token, token.idx)\n",
        "\n",
        "# Find out more information about the span list\n",
        "for span in token_str_sent:\n",
        "  print(span, span.idx)\n"
      ],
      "id": "9uey_qv_WkA5"
    },
    {
      "cell_type": "code",
      "execution_count": 77,
      "metadata": {
        "id": "eUmmH1iDWkIJ"
      },
      "outputs": [],
      "source": [],
      "id": "eUmmH1iDWkIJ"
    },
    {
      "cell_type": "code",
      "execution_count": 78,
      "metadata": {
        "colab": {
          "base_uri": "https://localhost:8080/"
        },
        "id": "cmd_reyxVPWh",
        "outputId": "4efce1d2-88f4-43b4-941c-fc89069f0303"
      },
      "outputs": [
        {
          "output_type": "execute_result",
          "data": {
            "text/plain": [
              "[1, 2, 3, 4]"
            ]
          },
          "metadata": {},
          "execution_count": 78
        }
      ],
      "source": [
        "lst = [1, 2, 3, 4]\n",
        "lst"
      ],
      "id": "cmd_reyxVPWh"
    },
    {
      "cell_type": "code",
      "execution_count": 79,
      "metadata": {
        "colab": {
          "base_uri": "https://localhost:8080/"
        },
        "id": "SXbBNzGVVb2a",
        "outputId": "0b330928-e90c-48d8-9ef7-5ae874179dba"
      },
      "outputs": [
        {
          "output_type": "execute_result",
          "data": {
            "text/plain": [
              "2"
            ]
          },
          "metadata": {},
          "execution_count": 79
        }
      ],
      "source": [
        "lst[1]"
      ],
      "id": "SXbBNzGVVb2a"
    },
    {
      "cell_type": "code",
      "execution_count": 80,
      "metadata": {
        "colab": {
          "base_uri": "https://localhost:8080/"
        },
        "id": "s9Q-i-feVdUB",
        "outputId": "39a9a549-e5f8-48da-d38a-9410e479a168"
      },
      "outputs": [
        {
          "output_type": "execute_result",
          "data": {
            "text/plain": [
              "1"
            ]
          },
          "metadata": {},
          "execution_count": 80
        }
      ],
      "source": [
        "lst[0]"
      ],
      "id": "s9Q-i-feVdUB"
    },
    {
      "cell_type": "code",
      "execution_count": 81,
      "metadata": {
        "colab": {
          "base_uri": "https://localhost:8080/"
        },
        "id": "rmYFEYHfVfAc",
        "outputId": "83183ca3-529e-4813-eeb1-b1dd19c3435c"
      },
      "outputs": [
        {
          "output_type": "execute_result",
          "data": {
            "text/plain": [
              "[2, 3, 4]"
            ]
          },
          "metadata": {},
          "execution_count": 81
        }
      ],
      "source": [
        "lst[1:]"
      ],
      "id": "rmYFEYHfVfAc"
    },
    {
      "cell_type": "code",
      "execution_count": 82,
      "metadata": {
        "colab": {
          "base_uri": "https://localhost:8080/"
        },
        "id": "SEEzMxXEVhm7",
        "outputId": "835a8b3a-03a0-44ce-dbdb-15968385cd99"
      },
      "outputs": [
        {
          "output_type": "execute_result",
          "data": {
            "text/plain": [
              "[3, 4]"
            ]
          },
          "metadata": {},
          "execution_count": 82
        }
      ],
      "source": [
        "lst[2:]"
      ],
      "id": "SEEzMxXEVhm7"
    },
    {
      "cell_type": "code",
      "execution_count": 83,
      "metadata": {
        "colab": {
          "base_uri": "https://localhost:8080/"
        },
        "id": "ccNwEkzxVlwD",
        "outputId": "fb919388-05f1-41d1-95d8-3dd2040d70eb"
      },
      "outputs": [
        {
          "output_type": "execute_result",
          "data": {
            "text/plain": [
              "[1, 2, 3, 4]"
            ]
          },
          "metadata": {},
          "execution_count": 83
        }
      ],
      "source": [
        "lst[0:]"
      ],
      "id": "ccNwEkzxVlwD"
    },
    {
      "cell_type": "code",
      "execution_count": 84,
      "metadata": {
        "colab": {
          "base_uri": "https://localhost:8080/"
        },
        "id": "xq9vbTEUVoZN",
        "outputId": "3246de77-24ba-4998-f33b-3c789c06e6d5"
      },
      "outputs": [
        {
          "output_type": "execute_result",
          "data": {
            "text/plain": [
              "[1, 2, 3, 4]"
            ]
          },
          "metadata": {},
          "execution_count": 84
        }
      ],
      "source": [
        "lst"
      ],
      "id": "xq9vbTEUVoZN"
    },
    {
      "cell_type": "code",
      "execution_count": 84,
      "metadata": {
        "id": "NpeJsj8KVqcR"
      },
      "outputs": [],
      "source": [],
      "id": "NpeJsj8KVqcR"
    }
  ],
  "metadata": {
    "colab": {
      "provenance": [],
      "toc_visible": true,
      "include_colab_link": true
    },
    "kernelspec": {
      "display_name": "Python 3",
      "language": "python",
      "name": "python3"
    },
    "language_info": {
      "codemirror_mode": {
        "name": "ipython",
        "version": 3
      },
      "file_extension": ".py",
      "mimetype": "text/x-python",
      "name": "python",
      "nbconvert_exporter": "python",
      "pygments_lexer": "ipython3",
      "version": "3.7.12"
    },
    "papermill": {
      "default_parameters": {},
      "duration": 32.370124,
      "end_time": "2023-01-06T18:09:17.573764",
      "environment_variables": {},
      "exception": null,
      "input_path": "__notebook__.ipynb",
      "output_path": "__notebook__.ipynb",
      "parameters": {},
      "start_time": "2023-01-06T18:08:45.203640",
      "version": "2.3.4"
    }
  },
  "nbformat": 4,
  "nbformat_minor": 5
}