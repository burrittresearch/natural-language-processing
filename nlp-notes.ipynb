{
  "cells": [
    {
      "cell_type": "markdown",
      "metadata": {
        "id": "view-in-github",
        "colab_type": "text"
      },
      "source": [
        "<a href=\"https://colab.research.google.com/github/burrittresearch/natural-language-processing/blob/main/nlp-notes.ipynb\" target=\"_parent\"><img src=\"https://colab.research.google.com/assets/colab-badge.svg\" alt=\"Open In Colab\"/></a>"
      ]
    },
    {
      "cell_type": "markdown",
      "metadata": {
        "id": "423a848c"
      },
      "source": [
        "# Natural Language Processing (NLP) Notes\n",
        "\n",
        "This notebook includes coding and notes Natural Language Processing (NLP).\n",
        "\n",
        "Data Source: https://www.gutenberg.org"
      ],
      "id": "423a848c"
    },
    {
      "cell_type": "markdown",
      "metadata": {
        "id": "a1c1915f"
      },
      "source": [
        "# Project Workflow\n",
        "* Define the Problem\n",
        "* Process Data\n",
        "* NLP Notes"
      ],
      "id": "a1c1915f"
    },
    {
      "cell_type": "markdown",
      "metadata": {
        "id": "Hk8wgETAFZNz"
      },
      "source": [
        "# Define the Problem\n",
        "Create notes for NLP"
      ],
      "id": "Hk8wgETAFZNz"
    },
    {
      "cell_type": "markdown",
      "metadata": {
        "id": "15_L8YkrFkRX"
      },
      "source": [
        "# Process Data"
      ],
      "id": "15_L8YkrFkRX"
    },
    {
      "cell_type": "code",
      "execution_count": 1,
      "metadata": {
        "id": "c1c9c1ba"
      },
      "outputs": [],
      "source": [
        "# Import libraries\n",
        "import matplotlib.pyplot as plt\n",
        "import numpy as np\n",
        "import pandas as pd\n",
        "import seaborn as sns\n",
        "import spacy\n"
      ],
      "id": "c1c9c1ba"
    },
    {
      "cell_type": "code",
      "execution_count": 2,
      "metadata": {
        "id": "i0t-A_uCKwIw"
      },
      "outputs": [],
      "source": [
        "# Set display options\n",
        "pd.set_option('display.max_rows', 50)\n",
        "pd.set_option('display.max_columns', 50)\n",
        "pd.set_option('display.width', 500)\n",
        "pd.set_option('display.colheader_justify', 'left')\n",
        "pd.set_option('display.precision', 3)\n",
        "\n",
        "# Line break utility\n",
        "str_lb = '\\n \\n'"
      ],
      "id": "i0t-A_uCKwIw"
    },
    {
      "cell_type": "code",
      "source": [
        "# Mount google drive\n",
        "from google.colab import drive\n",
        "drive.mount('/content/drive', force_remount=True)"
      ],
      "metadata": {
        "colab": {
          "base_uri": "https://localhost:8080/"
        },
        "id": "zSgIvhwmmH6f",
        "outputId": "cf5ab7be-b46d-4704-a4e0-8205a65e4827"
      },
      "id": "zSgIvhwmmH6f",
      "execution_count": 3,
      "outputs": [
        {
          "output_type": "stream",
          "name": "stdout",
          "text": [
            "Mounted at /content/drive\n"
          ]
        }
      ]
    },
    {
      "cell_type": "markdown",
      "source": [
        "# Process Data with spaCy"
      ],
      "metadata": {
        "id": "XHFNpxIcVPb8"
      },
      "id": "XHFNpxIcVPb8"
    },
    {
      "cell_type": "code",
      "execution_count": 4,
      "metadata": {
        "colab": {
          "base_uri": "https://localhost:8080/"
        },
        "id": "BCdUHf5Huhgl",
        "outputId": "735620fa-7c34-449a-c1b3-9b2d4326ba67"
      },
      "outputs": [
        {
          "output_type": "execute_result",
          "data": {
            "text/plain": [
              "<spacy.lang.en.English at 0x7847d0876bf0>"
            ]
          },
          "metadata": {},
          "execution_count": 4
        }
      ],
      "source": [
        "# Make language object returned by the load() function\n",
        "nlp = spacy.load('en_core_web_sm')\n",
        "nlp"
      ],
      "id": "BCdUHf5Huhgl"
    },
    {
      "cell_type": "code",
      "execution_count": 5,
      "metadata": {
        "colab": {
          "base_uri": "https://localhost:8080/",
          "height": 204
        },
        "id": "ZQxu2CSmuhyc",
        "outputId": "19a27f8f-ed28-4fef-8d9b-28e033de3387"
      },
      "outputs": [
        {
          "output_type": "execute_result",
          "data": {
            "text/plain": [
              "spacy.lang.en.English"
            ],
            "text/html": [
              "<div style=\"max-width:800px; border: 1px solid var(--colab-border-color);\"><style>\n",
              "      pre.function-repr-contents {\n",
              "        overflow-x: auto;\n",
              "        padding: 8px 12px;\n",
              "        max-height: 500px;\n",
              "      }\n",
              "\n",
              "      pre.function-repr-contents.function-repr-contents-collapsed {\n",
              "        cursor: pointer;\n",
              "        max-height: 100px;\n",
              "      }\n",
              "    </style>\n",
              "    <pre style=\"white-space: initial; background:\n",
              "         var(--colab-secondary-surface-color); padding: 8px 12px;\n",
              "         border-bottom: 1px solid var(--colab-border-color);\"><b>spacy.lang.en.English</b><br/>def __call__(text: Union[str, Doc], *, disable: Iterable[str]=SimpleFrozenList(), component_cfg: Optional[Dict[str, Dict[str, Any]]]=None) -&gt; Doc</pre><pre class=\"function-repr-contents function-repr-contents-collapsed\" style=\"\"><a class=\"filepath\" style=\"display:none\" href=\"#\">/usr/local/lib/python3.10/dist-packages/spacy/lang/en/__init__.py</a>A text-processing pipeline. Usually you&#x27;ll load this once per process,\n",
              "and pass the instance around your application.\n",
              "\n",
              "Defaults (class): Settings, data and factory methods for creating the `nlp`\n",
              "    object and processing pipeline.\n",
              "lang (str): IETF language code, such as &#x27;en&#x27;.\n",
              "\n",
              "DOCS: https://spacy.io/api/language</pre>\n",
              "      <script>\n",
              "      if (google.colab.kernel.accessAllowed && google.colab.files && google.colab.files.view) {\n",
              "        for (const element of document.querySelectorAll('.filepath')) {\n",
              "          element.style.display = 'block'\n",
              "          element.onclick = (event) => {\n",
              "            event.preventDefault();\n",
              "            event.stopPropagation();\n",
              "            google.colab.files.view(element.textContent, 22);\n",
              "          };\n",
              "        }\n",
              "      }\n",
              "      for (const element of document.querySelectorAll('.function-repr-contents')) {\n",
              "        element.onclick = (event) => {\n",
              "          event.preventDefault();\n",
              "          event.stopPropagation();\n",
              "          element.classList.toggle('function-repr-contents-collapsed');\n",
              "        };\n",
              "      }\n",
              "      </script>\n",
              "      </div>"
            ]
          },
          "metadata": {},
          "execution_count": 5
        }
      ],
      "source": [
        "# Data type of the variable\n",
        "type(nlp)"
      ],
      "id": "ZQxu2CSmuhyc"
    },
    {
      "cell_type": "code",
      "execution_count": 6,
      "metadata": {
        "colab": {
          "base_uri": "https://localhost:8080/"
        },
        "id": "17nHfdFpvgSo",
        "outputId": "f84e698e-4fe1-4a0f-d398-19d9f3390420"
      },
      "outputs": [
        {
          "output_type": "stream",
          "name": "stdout",
          "text": [
            "<class 'str'>\n",
            "This is sentence 1 and this is sentence 1 continuing. But now this is sentence 2.\n",
            "This is sentence 1 and this is sentence 1 continuing. But now this is sentence 2.\n",
            "<class 'spacy.tokens.doc.Doc'>\n",
            "18\n",
            "This 0\n",
            "is 5\n",
            "sentence 8\n",
            "1 17\n",
            "and 19\n",
            "this 23\n",
            "is 28\n",
            "sentence 31\n",
            "1 40\n",
            "continuing 42\n",
            ". 52\n",
            "But 54\n",
            "now 58\n",
            "this 62\n",
            "is 67\n",
            "sentence 70\n",
            "2 79\n",
            ". 80\n"
          ]
        }
      ],
      "source": [
        "# Make string object\n",
        "str_about = ('This is sentence 1'\n",
        "  ' and this is sentence 1 continuing. But'\n",
        "  ' now this is sentence 2.'\n",
        ")\n",
        "\n",
        "# Explore string object\n",
        "print(type(str_about))\n",
        "print(str_about)\n",
        "\n",
        "# Make word token object of string\n",
        "token_about = nlp(str_about)\n",
        "\n",
        "# Explore word tokens\n",
        "print(token_about)\n",
        "print(type(token_about))\n",
        "print(len(token_about))\n",
        "\n",
        "# Get word token indices\n",
        "for token in token_about:\n",
        "  print(token, token.idx)"
      ],
      "id": "17nHfdFpvgSo"
    },
    {
      "cell_type": "code",
      "execution_count": 7,
      "metadata": {
        "colab": {
          "base_uri": "https://localhost:8080/"
        },
        "id": "VjpeOtTbv0aR",
        "outputId": "ba86fd81-37f1-4283-9839-5e06f795ccf5"
      },
      "outputs": [
        {
          "output_type": "stream",
          "name": "stdout",
          "text": [
            "[This, is, sentence, 1, and, this, is, sentence, 1, continuing, ., But, now, this, is, sentence, 2, .]\n"
          ]
        }
      ],
      "source": [
        "# Make list of token objects\n",
        "lst_token_about = [token for token in token_about]\n",
        "print(lst_token_about)"
      ],
      "id": "VjpeOtTbv0aR"
    },
    {
      "cell_type": "code",
      "source": [
        "# Make span objects sentences using .sents property\n",
        "token_about_sents = token_about.sents\n",
        "\n",
        "# Explore sentence tokens\n",
        "print(type(token_about_sents))\n",
        "print(token_about_sents)\n",
        "\n",
        "# Make list of sentence tokens\n",
        "lst_token_about_sents = [token for token in token_about_sents]\n",
        "print(lst_token_about_sents)\n",
        "\n",
        "# Explore sentence tokens\n",
        "print(type(lst_token_about_sents))\n",
        "print(len(lst_token_about_sents))"
      ],
      "metadata": {
        "colab": {
          "base_uri": "https://localhost:8080/"
        },
        "id": "sQBScGDtt07k",
        "outputId": "0ca95f02-8618-4ef4-b42b-11a63c689849"
      },
      "id": "sQBScGDtt07k",
      "execution_count": 8,
      "outputs": [
        {
          "output_type": "stream",
          "name": "stdout",
          "text": [
            "<class 'generator'>\n",
            "<generator object at 0x7846db759bc0>\n",
            "[This is sentence 1 and this is sentence 1 continuing., But now this is sentence 2.]\n",
            "<class 'list'>\n",
            "2\n"
          ]
        }
      ]
    },
    {
      "cell_type": "code",
      "execution_count": 9,
      "metadata": {
        "colab": {
          "base_uri": "https://localhost:8080/"
        },
        "id": "v3linT-UWiiu",
        "outputId": "799b1e81-8ddf-422b-e3d2-162f49e37d5a"
      },
      "outputs": [
        {
          "output_type": "stream",
          "name": "stdout",
          "text": [
            "This is sentence 1 and this is sentence 1 continuing.\n",
            "But now this is sentence 2.\n"
          ]
        }
      ],
      "source": [
        "# Print each sentence in sentence list\n",
        "for sentence in lst_token_about_sents:\n",
        "  print(sentence)"
      ],
      "id": "v3linT-UWiiu"
    },
    {
      "cell_type": "code",
      "execution_count": 10,
      "metadata": {
        "colab": {
          "base_uri": "https://localhost:8080/"
        },
        "id": "Auydlsawv0q-",
        "outputId": "f273ce3c-0a55-4e9f-cce4-8dc1914aab32"
      },
      "outputs": [
        {
          "output_type": "stream",
          "name": "stdout",
          "text": [
            "This is sentence\n",
            "But now this\n"
          ]
        }
      ],
      "source": [
        "# Print first words of each sentence\n",
        "for sentence in lst_token_about_sents:\n",
        "  print(f'{sentence[:3]}')"
      ],
      "id": "Auydlsawv0q-"
    },
    {
      "cell_type": "markdown",
      "source": [
        "# Process Data with spaCy Using Romeo and Juliet from Project Gutenberg"
      ],
      "metadata": {
        "id": "BJr9kJSsVNyo"
      },
      "id": "BJr9kJSsVNyo"
    },
    {
      "cell_type": "code",
      "source": [
        "# Download book from Project Gutenberg and save locally\n",
        "!wget -P '/content/drive/MyDrive/colab-notebooks/github/nlp-notes/input/' \\\n",
        "-O '/content/drive/MyDrive/colab-notebooks/github/nlp-notes/input/romeo-juliet.txt' \\\n",
        "https://www.gutenberg.org/cache/epub/1513/pg1513.txt\n"
      ],
      "metadata": {
        "colab": {
          "base_uri": "https://localhost:8080/"
        },
        "id": "0qfFG0y2OBlU",
        "outputId": "0913eba0-3aa6-4662-f731-6f5cb2ecb6f1"
      },
      "id": "0qfFG0y2OBlU",
      "execution_count": 11,
      "outputs": [
        {
          "output_type": "stream",
          "name": "stdout",
          "text": [
            "--2024-03-13 20:43:05--  https://www.gutenberg.org/cache/epub/1513/pg1513.txt\n",
            "Resolving www.gutenberg.org (www.gutenberg.org)... 152.19.134.47, 2610:28:3090:3000:0:bad:cafe:47\n",
            "Connecting to www.gutenberg.org (www.gutenberg.org)|152.19.134.47|:443... connected.\n",
            "HTTP request sent, awaiting response... 200 OK\n",
            "Length: 169575 (166K) [text/plain]\n",
            "Saving to: ‘/content/drive/MyDrive/colab-notebooks/github/nlp-notes/input/romeo-juliet.txt’\n",
            "\n",
            "romeo-juliet.txt    100%[===================>] 165.60K  --.-KB/s    in 0.07s   \n",
            "\n",
            "2024-03-13 20:43:06 (2.20 MB/s) - ‘/content/drive/MyDrive/colab-notebooks/github/nlp-notes/input/romeo-juliet.txt’ saved [169575/169575]\n",
            "\n"
          ]
        }
      ]
    },
    {
      "cell_type": "code",
      "source": [
        "# Make file object and read into string object\n",
        "str_path_romeo = '/content/drive/MyDrive/colab-notebooks/github/nlp-notes/input/romeo-juliet.txt'\n",
        "str_romeo = open(str_path_romeo, 'r')\n",
        "str_romeo = str_romeo.read()\n",
        "\n",
        "# Explore string object\n",
        "print(type(str_romeo))\n",
        "print(f'{str_romeo}'[:100])"
      ],
      "metadata": {
        "id": "pN7PaPleSSDn",
        "colab": {
          "base_uri": "https://localhost:8080/"
        },
        "outputId": "ecdc8f2b-9012-47d9-8b13-b43f8e52f874"
      },
      "id": "pN7PaPleSSDn",
      "execution_count": 12,
      "outputs": [
        {
          "output_type": "stream",
          "name": "stdout",
          "text": [
            "<class 'str'>\n",
            "﻿The Project Gutenberg eBook of Romeo and Juliet\n",
            "    \n",
            "This ebook is for the use of anyone anywhere i\n"
          ]
        }
      ]
    },
    {
      "cell_type": "code",
      "source": [
        "# Make word token object of string\n",
        "token_romeo = nlp(str_romeo)\n",
        "\n",
        "# Explore word tokens\n",
        "print(f'{token_romeo}'[:100])\n",
        "print(type(token_romeo))\n",
        "print(len(token_romeo))\n",
        "\n",
        "# Get word token indices\n",
        "for token in token_romeo:\n",
        "  if token.idx <= 100:\n",
        "    print(token, token.idx)"
      ],
      "metadata": {
        "colab": {
          "base_uri": "https://localhost:8080/"
        },
        "id": "O12ennrCyXvJ",
        "outputId": "10819d54-2402-4d52-8afa-ea784ddcda9f"
      },
      "id": "O12ennrCyXvJ",
      "execution_count": 13,
      "outputs": [
        {
          "output_type": "stream",
          "name": "stdout",
          "text": [
            "﻿The Project Gutenberg eBook of Romeo and Juliet\n",
            "    \n",
            "This ebook is for the use of anyone anywhere i\n",
            "<class 'spacy.tokens.doc.Doc'>\n",
            "41501\n",
            "﻿The 0\n",
            "Project 5\n",
            "Gutenberg 13\n",
            "eBook 23\n",
            "of 29\n",
            "Romeo 32\n",
            "and 38\n",
            "Juliet 42\n",
            "\n",
            "    \n",
            " 48\n",
            "This 54\n",
            "ebook 59\n",
            "is 65\n",
            "for 68\n",
            "the 72\n",
            "use 76\n",
            "of 80\n",
            "anyone 83\n",
            "anywhere 90\n",
            "in 99\n"
          ]
        }
      ]
    },
    {
      "cell_type": "code",
      "source": [
        "# Make list of token objects\n",
        "lst_token_romeo = [token for token in token_romeo]\n",
        "print(lst_token_romeo[:10])"
      ],
      "metadata": {
        "colab": {
          "base_uri": "https://localhost:8080/"
        },
        "id": "ZgaBtou0yX1Q",
        "outputId": "9cd09e2d-3b36-4e3e-a800-d8d3d58885de"
      },
      "id": "ZgaBtou0yX1Q",
      "execution_count": 14,
      "outputs": [
        {
          "output_type": "stream",
          "name": "stdout",
          "text": [
            "[﻿The, Project, Gutenberg, eBook, of, Romeo, and, Juliet, \n",
            "    \n",
            ", This]\n"
          ]
        }
      ]
    },
    {
      "cell_type": "code",
      "source": [
        "# Make span objects sentences using .sents property\n",
        "token_romeo_sents = token_romeo.sents\n",
        "\n",
        "# Explore sentence tokens\n",
        "print(type(token_romeo_sents))\n",
        "print(token_romeo_sents)\n",
        "\n",
        "# Make list of sentence tokens\n",
        "lst_token_romeo_sents = [token for token in token_romeo_sents]\n",
        "\n",
        "# Explore list of sentence tokens\n",
        "print(lst_token_romeo_sents[:10])\n",
        "print(type(lst_token_romeo_sents))\n",
        "print(len(lst_token_romeo_sents))\n"
      ],
      "metadata": {
        "colab": {
          "base_uri": "https://localhost:8080/"
        },
        "id": "FIIzahpayYBh",
        "outputId": "d2e900c1-9c90-4a88-e3e6-26c1506e77ea"
      },
      "id": "FIIzahpayYBh",
      "execution_count": 15,
      "outputs": [
        {
          "output_type": "stream",
          "name": "stdout",
          "text": [
            "<class 'generator'>\n",
            "<generator object at 0x7846db7cf240>\n",
            "[﻿The Project Gutenberg eBook of Romeo and Juliet\n",
            "    \n",
            ", This ebook is for the use of anyone anywhere in the United States and\n",
            "most other parts of the world at no cost and with almost no restrictions\n",
            "whatsoever., You may copy it, give it away or re-use it under the terms\n",
            "of the Project Gutenberg License included with this ebook or online\n",
            "at www.gutenberg.org., If you are not located in the United States,\n",
            "you will have to check the laws of the country where you are located\n",
            "before using this eBook.\n",
            "\n",
            ", Title: Romeo and Juliet\n",
            "\n",
            "\n",
            "Author: William Shakespeare\n",
            "\n",
            "Release date: November 1, 1998 [eBook #1513]\n",
            "                Most recently updated: June 27, 2023\n",
            "\n",
            "Language: English\n",
            "\n",
            "Credits: the PG Shakespeare Team, a team of about twenty Project Gutenberg volunteers\n",
            "\n",
            "\n",
            "*** START OF THE PROJECT GUTENBERG EBOOK ROMEO AND JULIET ***\n",
            "\n",
            "\n",
            "\n",
            "\n",
            "THE TRAGEDY OF ROMEO AND JULIET\n",
            "\n",
            "by William Shakespeare\n",
            "\n",
            "\n",
            "\n",
            "\n",
            "Contents\n",
            "\n",
            "THE PROLOGUE.\n",
            "\n",
            ", ACT I\n",
            "Scene I. A public place.\n",
            ", Scene II., A Street.\n",
            ", Scene III., Room in Capulet’s House.\n",
            "]\n",
            "<class 'list'>\n",
            "2841\n"
          ]
        }
      ]
    },
    {
      "cell_type": "code",
      "source": [
        "# Print each sentence in sentence list\n",
        "for sentence in lst_token_romeo_sents[:10]:\n",
        "  print(sentence)\n",
        "\n",
        "# Print first words of each sentence\n",
        "for sentence in lst_token_romeo_sents[:10]:\n",
        "  print(f'{sentence[:3]}')"
      ],
      "metadata": {
        "colab": {
          "base_uri": "https://localhost:8080/"
        },
        "id": "zRbGoVg_4luE",
        "outputId": "d7f7292e-b9e4-4f6f-fdbe-e4d8f4012cab"
      },
      "id": "zRbGoVg_4luE",
      "execution_count": 16,
      "outputs": [
        {
          "output_type": "stream",
          "name": "stdout",
          "text": [
            "﻿The Project Gutenberg eBook of Romeo and Juliet\n",
            "    \n",
            "\n",
            "This ebook is for the use of anyone anywhere in the United States and\n",
            "most other parts of the world at no cost and with almost no restrictions\n",
            "whatsoever.\n",
            "You may copy it, give it away or re-use it under the terms\n",
            "of the Project Gutenberg License included with this ebook or online\n",
            "at www.gutenberg.org.\n",
            "If you are not located in the United States,\n",
            "you will have to check the laws of the country where you are located\n",
            "before using this eBook.\n",
            "\n",
            "\n",
            "Title: Romeo and Juliet\n",
            "\n",
            "\n",
            "Author: William Shakespeare\n",
            "\n",
            "Release date: November 1, 1998 [eBook #1513]\n",
            "                Most recently updated: June 27, 2023\n",
            "\n",
            "Language: English\n",
            "\n",
            "Credits: the PG Shakespeare Team, a team of about twenty Project Gutenberg volunteers\n",
            "\n",
            "\n",
            "*** START OF THE PROJECT GUTENBERG EBOOK ROMEO AND JULIET ***\n",
            "\n",
            "\n",
            "\n",
            "\n",
            "THE TRAGEDY OF ROMEO AND JULIET\n",
            "\n",
            "by William Shakespeare\n",
            "\n",
            "\n",
            "\n",
            "\n",
            "Contents\n",
            "\n",
            "THE PROLOGUE.\n",
            "\n",
            "\n",
            "ACT I\n",
            "Scene I. A public place.\n",
            "\n",
            "Scene II.\n",
            "A Street.\n",
            "\n",
            "Scene III.\n",
            "Room in Capulet’s House.\n",
            "\n",
            "﻿The Project Gutenberg\n",
            "This ebook is\n",
            "You may copy\n",
            "If you are\n",
            "Title: Romeo\n",
            "ACT I\n",
            "\n",
            "Scene II.\n",
            "A Street.\n",
            "Scene III.\n",
            "Room in Capulet\n"
          ]
        }
      ]
    },
    {
      "cell_type": "code",
      "source": [
        "# Filter out stop words\n",
        "lst_token_romeo_filtered = [token for token in token_romeo if not token.is_stop]\n",
        "print(lst_token_romeo_filtered[:100])"
      ],
      "metadata": {
        "colab": {
          "base_uri": "https://localhost:8080/"
        },
        "id": "7HitdLzd4l00",
        "outputId": "ababe887-1b4e-4648-b71e-563042caade2"
      },
      "id": "7HitdLzd4l00",
      "execution_count": 17,
      "outputs": [
        {
          "output_type": "stream",
          "name": "stdout",
          "text": [
            "[﻿The, Project, Gutenberg, eBook, Romeo, Juliet, \n",
            "    \n",
            ", ebook, use, United, States, \n",
            ", parts, world, cost, restrictions, \n",
            ", whatsoever, ., copy, ,, away, -, use, terms, \n",
            ", Project, Gutenberg, License, included, ebook, online, \n",
            ", www.gutenberg.org, ., located, United, States, ,, \n",
            ", check, laws, country, located, \n",
            ", eBook, ., \n",
            "\n",
            ", Title, :, Romeo, Juliet, \n",
            "\n",
            "\n",
            ", Author, :, William, Shakespeare, \n",
            "\n",
            ", Release, date, :, November, 1, ,, 1998, [, eBook, #, 1513, ], \n",
            "                , recently, updated, :, June, 27, ,, 2023, \n",
            "\n",
            ", Language, :, English, \n",
            "\n",
            ", Credits, :, PG, Shakespeare, Team, ,, team, Project, Gutenberg, volunteers, \n",
            "\n",
            "\n",
            ", *, *, *, START, PROJECT, GUTENBERG]\n"
          ]
        }
      ]
    },
    {
      "cell_type": "code",
      "source": [
        "# Check lemmatization for filtered list\n",
        "lst_token_romeo_lemma = [f'{token} {token.lemma_}' for token in lst_token_romeo_filtered]\n",
        "lst_token_romeo_lemma[:100]"
      ],
      "metadata": {
        "colab": {
          "base_uri": "https://localhost:8080/"
        },
        "id": "jtloIAdK-vnt",
        "outputId": "776ccabc-0a93-47a6-96b9-5d4dadf5fb07"
      },
      "id": "jtloIAdK-vnt",
      "execution_count": 18,
      "outputs": [
        {
          "output_type": "execute_result",
          "data": {
            "text/plain": [
              "['\\ufeffThe \\ufeffthe',\n",
              " 'Project Project',\n",
              " 'Gutenberg Gutenberg',\n",
              " 'eBook eBook',\n",
              " 'Romeo Romeo',\n",
              " 'Juliet Juliet',\n",
              " '\\n    \\n \\n    \\n',\n",
              " 'ebook ebook',\n",
              " 'use use',\n",
              " 'United United',\n",
              " 'States States',\n",
              " '\\n \\n',\n",
              " 'parts part',\n",
              " 'world world',\n",
              " 'cost cost',\n",
              " 'restrictions restriction',\n",
              " '\\n \\n',\n",
              " 'whatsoever whatsoever',\n",
              " '. .',\n",
              " 'copy copy',\n",
              " ', ,',\n",
              " 'away away',\n",
              " '- -',\n",
              " 'use use',\n",
              " 'terms term',\n",
              " '\\n \\n',\n",
              " 'Project Project',\n",
              " 'Gutenberg Gutenberg',\n",
              " 'License License',\n",
              " 'included include',\n",
              " 'ebook ebook',\n",
              " 'online online',\n",
              " '\\n \\n',\n",
              " 'www.gutenberg.org www.gutenberg.org',\n",
              " '. .',\n",
              " 'located locate',\n",
              " 'United United',\n",
              " 'States States',\n",
              " ', ,',\n",
              " '\\n \\n',\n",
              " 'check check',\n",
              " 'laws law',\n",
              " 'country country',\n",
              " 'located locate',\n",
              " '\\n \\n',\n",
              " 'eBook eBook',\n",
              " '. .',\n",
              " '\\n\\n \\n\\n',\n",
              " 'Title title',\n",
              " ': :',\n",
              " 'Romeo Romeo',\n",
              " 'Juliet Juliet',\n",
              " '\\n\\n\\n \\n\\n\\n',\n",
              " 'Author Author',\n",
              " ': :',\n",
              " 'William William',\n",
              " 'Shakespeare Shakespeare',\n",
              " '\\n\\n \\n\\n',\n",
              " 'Release Release',\n",
              " 'date date',\n",
              " ': :',\n",
              " 'November November',\n",
              " '1 1',\n",
              " ', ,',\n",
              " '1998 1998',\n",
              " '[ [',\n",
              " 'eBook ebook',\n",
              " '# #',\n",
              " '1513 1513',\n",
              " '] ]',\n",
              " '\\n                 \\n                ',\n",
              " 'recently recently',\n",
              " 'updated update',\n",
              " ': :',\n",
              " 'June June',\n",
              " '27 27',\n",
              " ', ,',\n",
              " '2023 2023',\n",
              " '\\n\\n \\n\\n',\n",
              " 'Language language',\n",
              " ': :',\n",
              " 'English English',\n",
              " '\\n\\n \\n\\n',\n",
              " 'Credits credit',\n",
              " ': :',\n",
              " 'PG PG',\n",
              " 'Shakespeare Shakespeare',\n",
              " 'Team Team',\n",
              " ', ,',\n",
              " 'team team',\n",
              " 'Project Project',\n",
              " 'Gutenberg Gutenberg',\n",
              " 'volunteers volunteer',\n",
              " '\\n\\n\\n \\n\\n\\n',\n",
              " '* *',\n",
              " '* *',\n",
              " '* *',\n",
              " 'START start',\n",
              " 'PROJECT PROJECT',\n",
              " 'GUTENBERG GUTENBERG']"
            ]
          },
          "metadata": {},
          "execution_count": 18
        }
      ]
    },
    {
      "cell_type": "code",
      "source": [],
      "metadata": {
        "id": "FJBfzR-lJ0Ck"
      },
      "id": "FJBfzR-lJ0Ck",
      "execution_count": 18,
      "outputs": []
    },
    {
      "cell_type": "code",
      "source": [],
      "metadata": {
        "id": "4RxnZqwS_-4T"
      },
      "id": "4RxnZqwS_-4T",
      "execution_count": 18,
      "outputs": []
    }
  ],
  "metadata": {
    "colab": {
      "provenance": [],
      "include_colab_link": true
    },
    "kernelspec": {
      "display_name": "Python 3",
      "language": "python",
      "name": "python3"
    },
    "language_info": {
      "codemirror_mode": {
        "name": "ipython",
        "version": 3
      },
      "file_extension": ".py",
      "mimetype": "text/x-python",
      "name": "python",
      "nbconvert_exporter": "python",
      "pygments_lexer": "ipython3",
      "version": "3.7.12"
    },
    "papermill": {
      "default_parameters": {},
      "duration": 32.370124,
      "end_time": "2023-01-06T18:09:17.573764",
      "environment_variables": {},
      "exception": null,
      "input_path": "__notebook__.ipynb",
      "output_path": "__notebook__.ipynb",
      "parameters": {},
      "start_time": "2023-01-06T18:08:45.203640",
      "version": "2.3.4"
    }
  },
  "nbformat": 4,
  "nbformat_minor": 5
}