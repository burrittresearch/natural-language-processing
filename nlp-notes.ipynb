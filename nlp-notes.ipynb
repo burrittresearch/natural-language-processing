{
  "cells": [
    {
      "cell_type": "markdown",
      "metadata": {
        "id": "view-in-github",
        "colab_type": "text"
      },
      "source": [
        "<a href=\"https://colab.research.google.com/github/burrittresearch/natural-language-processing/blob/main/nlp-notes.ipynb\" target=\"_parent\"><img src=\"https://colab.research.google.com/assets/colab-badge.svg\" alt=\"Open In Colab\"/></a>"
      ]
    },
    {
      "cell_type": "markdown",
      "metadata": {
        "id": "423a848c"
      },
      "source": [
        "# NLP Notes\n",
        "\n",
        "This notebook includes coding and notes Natural Language Processing (NLP)."
      ],
      "id": "423a848c"
    },
    {
      "cell_type": "markdown",
      "metadata": {
        "id": "a1c1915f"
      },
      "source": [
        "# Project Workflow\n",
        "* Define the Problem\n",
        "* Process Data\n",
        "* NLP Notes"
      ],
      "id": "a1c1915f"
    },
    {
      "cell_type": "markdown",
      "metadata": {
        "id": "Hk8wgETAFZNz"
      },
      "source": [
        "# Define the Problem\n",
        "Create notes for NLP"
      ],
      "id": "Hk8wgETAFZNz"
    },
    {
      "cell_type": "markdown",
      "metadata": {
        "id": "15_L8YkrFkRX"
      },
      "source": [
        "# Process Data"
      ],
      "id": "15_L8YkrFkRX"
    },
    {
      "cell_type": "code",
      "execution_count": 85,
      "metadata": {
        "id": "c1c9c1ba"
      },
      "outputs": [],
      "source": [
        "# Import libraries\n",
        "import matplotlib.pyplot as plt\n",
        "import numpy as np\n",
        "import pandas as pd\n",
        "import seaborn as sns\n",
        "import spacy\n"
      ],
      "id": "c1c9c1ba"
    },
    {
      "cell_type": "code",
      "execution_count": 86,
      "metadata": {
        "id": "i0t-A_uCKwIw"
      },
      "outputs": [],
      "source": [
        "# Set display options\n",
        "pd.set_option('display.max_rows', 50)\n",
        "pd.set_option('display.max_columns', 50)\n",
        "pd.set_option('display.width', 500)\n",
        "pd.set_option('display.colheader_justify', 'left')\n",
        "pd.set_option('display.precision', 3)\n",
        "\n",
        "# Line break utility\n",
        "str_lb = '\\n \\n'"
      ],
      "id": "i0t-A_uCKwIw"
    },
    {
      "cell_type": "markdown",
      "metadata": {
        "id": "dQh5tNEMzV-h"
      },
      "source": [
        "# NLP Notes"
      ],
      "id": "dQh5tNEMzV-h"
    },
    {
      "cell_type": "code",
      "execution_count": 87,
      "metadata": {
        "colab": {
          "base_uri": "https://localhost:8080/"
        },
        "id": "BCdUHf5Huhgl",
        "outputId": "a70a09dd-aa24-4775-d78c-5937b7205b88"
      },
      "outputs": [
        {
          "output_type": "execute_result",
          "data": {
            "text/plain": [
              "<spacy.lang.en.English at 0x7dd2b04279d0>"
            ]
          },
          "metadata": {},
          "execution_count": 87
        }
      ],
      "source": [
        "# Make language object returned by the load() function\n",
        "nlp = spacy.load('en_core_web_sm')\n",
        "nlp"
      ],
      "id": "BCdUHf5Huhgl"
    },
    {
      "cell_type": "code",
      "execution_count": 88,
      "metadata": {
        "colab": {
          "base_uri": "https://localhost:8080/"
        },
        "id": "ZQxu2CSmuhyc",
        "outputId": "cd3a58bd-fc59-4b6a-ea10-7f557c2be12a"
      },
      "outputs": [
        {
          "output_type": "execute_result",
          "data": {
            "text/plain": [
              "spacy.lang.en.English"
            ]
          },
          "metadata": {},
          "execution_count": 88
        }
      ],
      "source": [
        "# Data type of the variable\n",
        "type(nlp)"
      ],
      "id": "ZQxu2CSmuhyc"
    },
    {
      "cell_type": "code",
      "execution_count": 89,
      "metadata": {
        "colab": {
          "base_uri": "https://localhost:8080/"
        },
        "id": "17nHfdFpvgSo",
        "outputId": "41010bbe-062b-475c-941e-f53ff67897c3"
      },
      "outputs": [
        {
          "output_type": "stream",
          "name": "stdout",
          "text": [
            "this is about spacy nlp\n",
            "<class 'str'>\n",
            "this is about spacy nlp\n",
            "<class 'spacy.tokens.doc.Doc'>\n"
          ]
        }
      ],
      "source": [
        "# Make str object about spacy\n",
        "str_about = 'this is about spacy nlp'\n",
        "print(str_about)\n",
        "print(type(str_about))\n",
        "\n",
        "# Make token object of spacy string\n",
        "token_str = nlp(str_about)\n",
        "print(token_str)\n",
        "print(type(token_str))\n"
      ],
      "id": "17nHfdFpvgSo"
    },
    {
      "cell_type": "code",
      "execution_count": 90,
      "metadata": {
        "colab": {
          "base_uri": "https://localhost:8080/"
        },
        "id": "VjpeOtTbv0aR",
        "outputId": "ed97ca43-f575-45ce-e84e-7435ec52982b"
      },
      "outputs": [
        {
          "output_type": "execute_result",
          "data": {
            "text/plain": [
              "[this, is, about, spacy, nlp]"
            ]
          },
          "metadata": {},
          "execution_count": 90
        }
      ],
      "source": [
        "# Make list of token object\n",
        "lst_token = []\n",
        "for token in token_str:\n",
        "  lst_token.append(token)\n",
        "\n",
        "lst_token"
      ],
      "id": "VjpeOtTbv0aR"
    },
    {
      "cell_type": "code",
      "execution_count": 91,
      "metadata": {
        "colab": {
          "base_uri": "https://localhost:8080/"
        },
        "id": "H7QAKpV_v0fW",
        "outputId": "c9fa7c6e-bbdb-4b9a-dd60-4e2d1c2536e8"
      },
      "outputs": [
        {
          "output_type": "execute_result",
          "data": {
            "text/plain": [
              "[this, is, about, spacy, nlp]"
            ]
          },
          "metadata": {},
          "execution_count": 91
        }
      ],
      "source": [
        "# Using list comprehension to do the same thing\n",
        "# More pythonic than loops\n",
        "lst_token = [token for token in token_str]\n",
        "lst_token"
      ],
      "id": "H7QAKpV_v0fW"
    },
    {
      "cell_type": "code",
      "execution_count": 92,
      "metadata": {
        "colab": {
          "base_uri": "https://localhost:8080/"
        },
        "id": "LeGwogdy4uFP",
        "outputId": "6e0daacb-d8b7-452b-cad1-864753968143"
      },
      "outputs": [
        {
          "output_type": "stream",
          "name": "stdout",
          "text": [
            "This is sentence 1 and this is sentence 1 continuing. But now this is sentence 2.\n",
            "<class 'str'>\n",
            "This is sentence 1 and this is sentence 1 continuing. But now this is sentence 2.\n",
            "<class 'spacy.tokens.doc.Doc'>\n",
            "18\n"
          ]
        }
      ],
      "source": [
        "# Make str object of sentences\n",
        "str_sent = ('This is sentence 1'\n",
        "  ' and this is sentence 1 continuing. But'\n",
        "  ' now this is sentence 2.'\n",
        ")\n",
        "print(str_sent)\n",
        "print(type(str_sent))\n",
        "\n",
        "# Make token objects of sentences string\n",
        "token_str_sent = nlp(str_sent)\n",
        "print(token_str_sent)\n",
        "print(type(token_str_sent))\n",
        "\n",
        "# Verify length of token objects in the list\n",
        "print(len(token_str_sent))\n"
      ],
      "id": "LeGwogdy4uFP"
    },
    {
      "cell_type": "code",
      "execution_count": 93,
      "metadata": {
        "colab": {
          "base_uri": "https://localhost:8080/"
        },
        "id": "Bsj6-ypYv0ko",
        "outputId": "271d4c2e-f0d6-49bc-c34a-cf95828bde98"
      },
      "outputs": [
        {
          "output_type": "stream",
          "name": "stdout",
          "text": [
            "[This is sentence 1 and this is sentence 1 continuing., But now this is sentence 2.]\n",
            "<class 'list'>\n",
            "2\n"
          ]
        }
      ],
      "source": [
        "# Make list of span objects sentences using .sents property\n",
        "lst_span_str_sent = list(token_str_sent.sents)\n",
        "print(lst_span_str_sent)\n",
        "print(type(lst_span_str_sent))\n",
        "\n",
        "# Verify length of span objects in the list\n",
        "print(len(lst_span_str_sent))"
      ],
      "id": "Bsj6-ypYv0ko"
    },
    {
      "cell_type": "code",
      "execution_count": 94,
      "metadata": {
        "colab": {
          "base_uri": "https://localhost:8080/"
        },
        "id": "v3linT-UWiiu",
        "outputId": "96f01666-2f7c-4c19-f4c8-0372f74e76b4"
      },
      "outputs": [
        {
          "output_type": "stream",
          "name": "stdout",
          "text": [
            "This is sentence 1 and this is sentence 1 continuing.\n",
            "But now this is sentence 2.\n"
          ]
        }
      ],
      "source": [
        "# Print each sentence\n",
        "for sentence in lst_span_str_sent:\n",
        "  print(sentence)"
      ],
      "id": "v3linT-UWiiu"
    },
    {
      "cell_type": "code",
      "execution_count": 95,
      "metadata": {
        "colab": {
          "base_uri": "https://localhost:8080/"
        },
        "id": "Auydlsawv0q-",
        "outputId": "eadc15e4-1703-42de-fb8c-421cbc1f80dc"
      },
      "outputs": [
        {
          "output_type": "stream",
          "name": "stdout",
          "text": [
            "This is sentence\n",
            "But now this\n"
          ]
        }
      ],
      "source": [
        "# Print first words of each sentence\n",
        "for sentence in lst_span_str_sent:\n",
        "  print(f'{sentence[:3]}')"
      ],
      "id": "Auydlsawv0q-"
    },
    {
      "cell_type": "code",
      "execution_count": 96,
      "metadata": {
        "colab": {
          "base_uri": "https://localhost:8080/",
          "height": 35
        },
        "id": "FLgU-0dv6tT3",
        "outputId": "6f817dc7-1c70-47d7-8b8c-e403040d284f"
      },
      "outputs": [
        {
          "output_type": "execute_result",
          "data": {
            "text/plain": [
              "'This is sentence 1 and this is sentence 1 continuing. But now this is sentence 2.'"
            ],
            "application/vnd.google.colaboratory.intrinsic+json": {
              "type": "string"
            }
          },
          "metadata": {},
          "execution_count": 96
        }
      ],
      "source": [
        "str_sent"
      ],
      "id": "FLgU-0dv6tT3"
    },
    {
      "cell_type": "code",
      "execution_count": 97,
      "metadata": {
        "id": "9uey_qv_WkA5",
        "colab": {
          "base_uri": "https://localhost:8080/"
        },
        "outputId": "2cdd6fb3-a17e-4b73-ea0c-1df1ef08a36d"
      },
      "outputs": [
        {
          "output_type": "stream",
          "name": "stdout",
          "text": [
            "this 0\n",
            "is 5\n",
            "about 8\n",
            "spacy 14\n",
            "nlp 20\n",
            "This 0\n",
            "is 5\n",
            "sentence 8\n",
            "1 17\n",
            "and 19\n",
            "this 23\n",
            "is 28\n",
            "sentence 31\n",
            "1 40\n",
            "continuing 42\n",
            ". 52\n",
            "But 54\n",
            "now 58\n",
            "this 62\n",
            "is 67\n",
            "sentence 70\n",
            "2 79\n",
            ". 80\n"
          ]
        }
      ],
      "source": [
        "# Find out more information about the token list\n",
        "for token in token_str:\n",
        "  print(token, token.idx)\n",
        "\n",
        "# Find out more information about the span list\n",
        "for span in token_str_sent:\n",
        "  print(span, span.idx)\n"
      ],
      "id": "9uey_qv_WkA5"
    },
    {
      "cell_type": "code",
      "execution_count": 97,
      "metadata": {
        "id": "NpeJsj8KVqcR"
      },
      "outputs": [],
      "source": [
        "# end"
      ],
      "id": "NpeJsj8KVqcR"
    }
  ],
  "metadata": {
    "colab": {
      "provenance": [],
      "toc_visible": true,
      "include_colab_link": true
    },
    "kernelspec": {
      "display_name": "Python 3",
      "language": "python",
      "name": "python3"
    },
    "language_info": {
      "codemirror_mode": {
        "name": "ipython",
        "version": 3
      },
      "file_extension": ".py",
      "mimetype": "text/x-python",
      "name": "python",
      "nbconvert_exporter": "python",
      "pygments_lexer": "ipython3",
      "version": "3.7.12"
    },
    "papermill": {
      "default_parameters": {},
      "duration": 32.370124,
      "end_time": "2023-01-06T18:09:17.573764",
      "environment_variables": {},
      "exception": null,
      "input_path": "__notebook__.ipynb",
      "output_path": "__notebook__.ipynb",
      "parameters": {},
      "start_time": "2023-01-06T18:08:45.203640",
      "version": "2.3.4"
    }
  },
  "nbformat": 4,
  "nbformat_minor": 5
}