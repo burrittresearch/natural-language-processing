{
  "cells": [
    {
      "cell_type": "markdown",
      "metadata": {
        "id": "view-in-github",
        "colab_type": "text"
      },
      "source": [
        "<a href=\"https://colab.research.google.com/github/burrittresearch/natural-language-processing/blob/main/nlp-notes.ipynb\" target=\"_parent\"><img src=\"https://colab.research.google.com/assets/colab-badge.svg\" alt=\"Open In Colab\"/></a>"
      ]
    },
    {
      "cell_type": "markdown",
      "metadata": {
        "id": "423a848c"
      },
      "source": [
        "# Natural Language Processing (NLP) Notes\n",
        "\n",
        "This notebook includes coding and notes Natural Language Processing (NLP).\n",
        "\n",
        "Data Source: https://www.gutenberg.org"
      ],
      "id": "423a848c"
    },
    {
      "cell_type": "markdown",
      "metadata": {
        "id": "a1c1915f"
      },
      "source": [
        "# Project Workflow\n",
        "* Define the Problem\n",
        "* Process Data\n",
        "* NLP Notes"
      ],
      "id": "a1c1915f"
    },
    {
      "cell_type": "markdown",
      "metadata": {
        "id": "Hk8wgETAFZNz"
      },
      "source": [
        "# Define the Problem\n",
        "Create notes for NLP"
      ],
      "id": "Hk8wgETAFZNz"
    },
    {
      "cell_type": "markdown",
      "metadata": {
        "id": "15_L8YkrFkRX"
      },
      "source": [
        "# Process Data"
      ],
      "id": "15_L8YkrFkRX"
    },
    {
      "cell_type": "code",
      "execution_count": 1,
      "metadata": {
        "id": "c1c9c1ba"
      },
      "outputs": [],
      "source": [
        "# Import libraries\n",
        "import matplotlib.pyplot as plt\n",
        "import numpy as np\n",
        "import pandas as pd\n",
        "import seaborn as sns\n",
        "import spacy\n"
      ],
      "id": "c1c9c1ba"
    },
    {
      "cell_type": "code",
      "execution_count": 2,
      "metadata": {
        "id": "i0t-A_uCKwIw"
      },
      "outputs": [],
      "source": [
        "# Set display options\n",
        "pd.set_option('display.max_rows', 50)\n",
        "pd.set_option('display.max_columns', 50)\n",
        "pd.set_option('display.width', 500)\n",
        "pd.set_option('display.colheader_justify', 'left')\n",
        "pd.set_option('display.precision', 3)\n",
        "\n",
        "# Line break utility\n",
        "str_lb = '\\n \\n'"
      ],
      "id": "i0t-A_uCKwIw"
    },
    {
      "cell_type": "code",
      "source": [
        "# Mount google drive\n",
        "from google.colab import drive\n",
        "drive.mount('/content/drive', force_remount=True)"
      ],
      "metadata": {
        "colab": {
          "base_uri": "https://localhost:8080/"
        },
        "id": "zSgIvhwmmH6f",
        "outputId": "3b600861-64b1-44d5-e91a-c79b13cebd69"
      },
      "id": "zSgIvhwmmH6f",
      "execution_count": 3,
      "outputs": [
        {
          "output_type": "stream",
          "name": "stdout",
          "text": [
            "Mounted at /content/drive\n"
          ]
        }
      ]
    },
    {
      "cell_type": "markdown",
      "source": [
        "# spaCy Notes"
      ],
      "metadata": {
        "id": "XHFNpxIcVPb8"
      },
      "id": "XHFNpxIcVPb8"
    },
    {
      "cell_type": "code",
      "execution_count": 4,
      "metadata": {
        "colab": {
          "base_uri": "https://localhost:8080/"
        },
        "id": "BCdUHf5Huhgl",
        "outputId": "ed3f5ff7-ab8d-4a4f-f9ba-d2cabd92ee3f"
      },
      "outputs": [
        {
          "output_type": "execute_result",
          "data": {
            "text/plain": [
              "<spacy.lang.en.English at 0x7a83787e6fb0>"
            ]
          },
          "metadata": {},
          "execution_count": 4
        }
      ],
      "source": [
        "# Make language object returned by the load() function\n",
        "nlp = spacy.load('en_core_web_sm')\n",
        "nlp"
      ],
      "id": "BCdUHf5Huhgl"
    },
    {
      "cell_type": "code",
      "execution_count": 5,
      "metadata": {
        "colab": {
          "base_uri": "https://localhost:8080/"
        },
        "id": "ZQxu2CSmuhyc",
        "outputId": "f5875654-09ed-4388-d4af-d2a8bcdc8dfd"
      },
      "outputs": [
        {
          "output_type": "execute_result",
          "data": {
            "text/plain": [
              "spacy.lang.en.English"
            ]
          },
          "metadata": {},
          "execution_count": 5
        }
      ],
      "source": [
        "# Data type of the variable\n",
        "type(nlp)"
      ],
      "id": "ZQxu2CSmuhyc"
    },
    {
      "cell_type": "code",
      "execution_count": 6,
      "metadata": {
        "colab": {
          "base_uri": "https://localhost:8080/"
        },
        "id": "17nHfdFpvgSo",
        "outputId": "2d38a710-17fc-49e9-b314-012965104801"
      },
      "outputs": [
        {
          "output_type": "stream",
          "name": "stdout",
          "text": [
            "<class 'str'>\n",
            "This is sentence 1 and this is sentence 1 continuing. But now this is sentence 2.\n",
            "This is sentence 1 and this is sentence 1 continuing. But now this is sentence 2.\n",
            "<class 'spacy.tokens.doc.Doc'>\n",
            "18\n",
            "This 0\n",
            "is 5\n",
            "sentence 8\n",
            "1 17\n",
            "and 19\n",
            "this 23\n",
            "is 28\n",
            "sentence 31\n",
            "1 40\n",
            "continuing 42\n",
            ". 52\n",
            "But 54\n",
            "now 58\n",
            "this 62\n",
            "is 67\n",
            "sentence 70\n",
            "2 79\n",
            ". 80\n"
          ]
        }
      ],
      "source": [
        "# Make string object\n",
        "str_about = ('This is sentence 1'\n",
        "  ' and this is sentence 1 continuing. But'\n",
        "  ' now this is sentence 2.'\n",
        ")\n",
        "\n",
        "# Explore string object\n",
        "print(type(str_about))\n",
        "print(str_about)\n",
        "\n",
        "# Make word token object of string\n",
        "token_about = nlp(str_about)\n",
        "\n",
        "# Explore word tokens\n",
        "print(token_about)\n",
        "print(type(token_about))\n",
        "print(len(token_about))\n",
        "\n",
        "# Get word token indices\n",
        "for token in token_about:\n",
        "  print(token, token.idx)"
      ],
      "id": "17nHfdFpvgSo"
    },
    {
      "cell_type": "code",
      "execution_count": 7,
      "metadata": {
        "colab": {
          "base_uri": "https://localhost:8080/"
        },
        "id": "VjpeOtTbv0aR",
        "outputId": "4f172b58-a608-4aac-8c76-5ab7e486768f"
      },
      "outputs": [
        {
          "output_type": "execute_result",
          "data": {
            "text/plain": [
              "[This,\n",
              " is,\n",
              " sentence,\n",
              " 1,\n",
              " and,\n",
              " this,\n",
              " is,\n",
              " sentence,\n",
              " 1,\n",
              " continuing,\n",
              " .,\n",
              " But,\n",
              " now,\n",
              " this,\n",
              " is,\n",
              " sentence,\n",
              " 2,\n",
              " .]"
            ]
          },
          "metadata": {},
          "execution_count": 7
        }
      ],
      "source": [
        "# Make list of token objects\n",
        "lst_token_about = [token for token in token_about]\n",
        "lst_token_about"
      ],
      "id": "VjpeOtTbv0aR"
    },
    {
      "cell_type": "code",
      "source": [
        "# Make span objects sentences using .sents property\n",
        "token_about_sents = token_about.sents\n",
        "\n",
        "# Explore sentence tokens\n",
        "print(type(token_about_sents))\n",
        "print(token_about_sents)\n",
        "\n",
        "# Make list of sentence tokens\n",
        "lst_token_about_sents = [token for token in token_about_sents]\n",
        "print(lst_token_about_sents)\n",
        "\n",
        "# Explore sentence tokens\n",
        "print(type(lst_token_about_sents))\n",
        "print(len(lst_token_about_sents))"
      ],
      "metadata": {
        "colab": {
          "base_uri": "https://localhost:8080/"
        },
        "id": "sQBScGDtt07k",
        "outputId": "93258502-f74f-4c81-922d-847982fcd0c9"
      },
      "id": "sQBScGDtt07k",
      "execution_count": 8,
      "outputs": [
        {
          "output_type": "stream",
          "name": "stdout",
          "text": [
            "<class 'generator'>\n",
            "<generator object at 0x7a823d790680>\n",
            "[This is sentence 1 and this is sentence 1 continuing., But now this is sentence 2.]\n",
            "<class 'list'>\n",
            "2\n"
          ]
        }
      ]
    },
    {
      "cell_type": "code",
      "execution_count": 9,
      "metadata": {
        "colab": {
          "base_uri": "https://localhost:8080/"
        },
        "id": "v3linT-UWiiu",
        "outputId": "27df8a68-7cf2-47be-e61a-92ca4c684de4"
      },
      "outputs": [
        {
          "output_type": "stream",
          "name": "stdout",
          "text": [
            "This is sentence 1 and this is sentence 1 continuing.\n",
            "But now this is sentence 2.\n"
          ]
        }
      ],
      "source": [
        "# Print each sentence in sentence list\n",
        "for sentence in lst_token_about_sents:\n",
        "  print(sentence)"
      ],
      "id": "v3linT-UWiiu"
    },
    {
      "cell_type": "code",
      "execution_count": 10,
      "metadata": {
        "colab": {
          "base_uri": "https://localhost:8080/"
        },
        "id": "Auydlsawv0q-",
        "outputId": "3a8a818e-4281-4654-8aba-6087259c2bcc"
      },
      "outputs": [
        {
          "output_type": "stream",
          "name": "stdout",
          "text": [
            "This is sentence\n",
            "But now this\n"
          ]
        }
      ],
      "source": [
        "# Print first words of each sentence\n",
        "for sentence in lst_token_about_sents:\n",
        "  print(f'{sentence[:3]}')"
      ],
      "id": "Auydlsawv0q-"
    },
    {
      "cell_type": "markdown",
      "source": [
        "# Use spaCy with Romeo and Juliet from Project Gutenberg"
      ],
      "metadata": {
        "id": "BJr9kJSsVNyo"
      },
      "id": "BJr9kJSsVNyo"
    },
    {
      "cell_type": "code",
      "source": [
        "# Download book from Project Gutenberg and save locally\n",
        "!wget -P '/content/drive/MyDrive/Colab Notebooks/input/' \\\n",
        "-O '/content/drive/MyDrive/Colab Notebooks/input/romeo-juliet.txt' \\\n",
        "https://www.gutenberg.org/cache/epub/1513/pg1513.txt\n"
      ],
      "metadata": {
        "colab": {
          "base_uri": "https://localhost:8080/"
        },
        "id": "0qfFG0y2OBlU",
        "outputId": "624b47e5-e55c-47f6-fa8c-bc93441c4d38"
      },
      "id": "0qfFG0y2OBlU",
      "execution_count": 11,
      "outputs": [
        {
          "output_type": "stream",
          "name": "stdout",
          "text": [
            "--2023-09-03 21:14:52--  https://www.gutenberg.org/cache/epub/1513/pg1513.txt\n",
            "Resolving www.gutenberg.org (www.gutenberg.org)... 152.19.134.47, 2610:28:3090:3000:0:bad:cafe:47\n",
            "Connecting to www.gutenberg.org (www.gutenberg.org)|152.19.134.47|:443... connected.\n",
            "HTTP request sent, awaiting response... 200 OK\n",
            "Length: 169486 (166K) [text/plain]\n",
            "Saving to: ‘/content/drive/MyDrive/Colab Notebooks/input/romeo-juliet.txt’\n",
            "\n",
            "romeo-juliet.txt    100%[===================>] 165.51K  --.-KB/s    in 0.1s    \n",
            "\n",
            "2023-09-03 21:14:55 (1.57 MB/s) - ‘/content/drive/MyDrive/Colab Notebooks/input/romeo-juliet.txt’ saved [169486/169486]\n",
            "\n"
          ]
        }
      ]
    },
    {
      "cell_type": "code",
      "source": [
        "# Make file object and read into string object\n",
        "str_path_romeo = '/content/drive/MyDrive/Colab Notebooks/input/romeo-juliet.txt'\n",
        "str_romeo = open(str_path_romeo, 'r')\n",
        "str_romeo = str_romeo.read()\n",
        "\n",
        "# Explore string object\n",
        "print(type(str_romeo))\n",
        "print(f'{str_romeo}'[:100])"
      ],
      "metadata": {
        "id": "pN7PaPleSSDn",
        "colab": {
          "base_uri": "https://localhost:8080/"
        },
        "outputId": "6b9f8866-b433-4cf5-f65e-d0a3fca1d98f"
      },
      "id": "pN7PaPleSSDn",
      "execution_count": 12,
      "outputs": [
        {
          "output_type": "stream",
          "name": "stdout",
          "text": [
            "<class 'str'>\n",
            "﻿The Project Gutenberg eBook of Romeo and Juliet\n",
            "    \n",
            "This ebook is for the use of anyone anywhere i\n"
          ]
        }
      ]
    },
    {
      "cell_type": "code",
      "source": [
        "# Make word token object of string\n",
        "token_romeo = nlp(str_romeo)\n",
        "\n",
        "# Explore word tokens\n",
        "print(f'{token_romeo}'[:100])\n",
        "print(type(token_romeo))\n",
        "print(len(token_romeo))\n",
        "\n",
        "# Get word token indices\n",
        "for token in token_romeo:\n",
        "  if token.idx <= 100:\n",
        "    print(token, token.idx)"
      ],
      "metadata": {
        "colab": {
          "base_uri": "https://localhost:8080/"
        },
        "id": "O12ennrCyXvJ",
        "outputId": "0922b910-0bf1-4795-e742-f81389b5b368"
      },
      "id": "O12ennrCyXvJ",
      "execution_count": 13,
      "outputs": [
        {
          "output_type": "stream",
          "name": "stdout",
          "text": [
            "﻿The Project Gutenberg eBook of Romeo and Juliet\n",
            "    \n",
            "This ebook is for the use of anyone anywhere i\n",
            "<class 'spacy.tokens.doc.Doc'>\n",
            "41485\n",
            "﻿The 0\n",
            "Project 5\n",
            "Gutenberg 13\n",
            "eBook 23\n",
            "of 29\n",
            "Romeo 32\n",
            "and 38\n",
            "Juliet 42\n",
            "\n",
            "    \n",
            " 48\n",
            "This 54\n",
            "ebook 59\n",
            "is 65\n",
            "for 68\n",
            "the 72\n",
            "use 76\n",
            "of 80\n",
            "anyone 83\n",
            "anywhere 90\n",
            "in 99\n"
          ]
        }
      ]
    },
    {
      "cell_type": "code",
      "source": [
        "# Make list of token objects\n",
        "lst_token_romeo = [token for token in token_romeo]\n",
        "print(lst_token_romeo[:10])"
      ],
      "metadata": {
        "colab": {
          "base_uri": "https://localhost:8080/"
        },
        "id": "ZgaBtou0yX1Q",
        "outputId": "d88bdb11-02ac-4725-f25c-8d6a18c08c72"
      },
      "id": "ZgaBtou0yX1Q",
      "execution_count": 14,
      "outputs": [
        {
          "output_type": "stream",
          "name": "stdout",
          "text": [
            "[﻿The, Project, Gutenberg, eBook, of, Romeo, and, Juliet, \n",
            "    \n",
            ", This]\n"
          ]
        }
      ]
    },
    {
      "cell_type": "code",
      "source": [
        "# Make span objects sentences using .sents property\n",
        "token_romeo_sents = token_romeo.sents\n",
        "\n",
        "# Explore sentence tokens\n",
        "print(type(token_romeo_sents))\n",
        "print(token_romeo_sents)\n",
        "\n",
        "# Make list of sentence tokens\n",
        "lst_token_romeo_sents = [token for token in token_romeo_sents]\n",
        "\n",
        "# Explore list of sentence tokens\n",
        "print(lst_token_romeo_sents[:10])\n",
        "print(type(lst_token_romeo_sents))\n",
        "print(len(lst_token_romeo_sents))\n"
      ],
      "metadata": {
        "colab": {
          "base_uri": "https://localhost:8080/"
        },
        "id": "FIIzahpayYBh",
        "outputId": "c0f61ac0-f5ee-42b5-db5b-a6ef37aa0862"
      },
      "id": "FIIzahpayYBh",
      "execution_count": 15,
      "outputs": [
        {
          "output_type": "stream",
          "name": "stdout",
          "text": [
            "<class 'generator'>\n",
            "<generator object at 0x7a823d790a40>\n",
            "[﻿The Project Gutenberg eBook of Romeo and Juliet\n",
            "    \n",
            ", This ebook is for the use of anyone anywhere in the United States and\n",
            "most other parts of the world at no cost and with almost no restrictions\n",
            "whatsoever., You may copy it, give it away or re-use it under the terms\n",
            "of the Project Gutenberg License included with this ebook or online\n",
            "at www.gutenberg.org., If you are not located in the United States,\n",
            "you will have to check the laws of the country where you are located\n",
            "before using this eBook.\n",
            "\n",
            ", Title: Romeo and Juliet\n",
            "\n",
            "\n",
            "Author: William Shakespeare\n",
            "\n",
            "Release date: November 1, 1998 [eBook #1513]\n",
            "                Most recently updated: June 27, 2023\n",
            "\n",
            "Language: English\n",
            "\n",
            "\n",
            "\n",
            "*** START OF THE PROJECT GUTENBERG EBOOK ROMEO AND JULIET ***\n",
            "\n",
            "\n",
            "\n",
            "THE TRAGEDY OF ROMEO AND JULIET\n",
            "\n",
            "by William Shakespeare\n",
            "\n",
            "\n",
            "\n",
            "\n",
            "Contents\n",
            "\n",
            "THE PROLOGUE.\n",
            "\n",
            ", ACT I\n",
            "Scene I. A public place.\n",
            ", Scene II., A Street.\n",
            ", Scene III., Room in Capulet’s House.\n",
            "]\n",
            "<class 'list'>\n",
            "2841\n"
          ]
        }
      ]
    },
    {
      "cell_type": "code",
      "source": [
        "# Print each sentence in sentence list\n",
        "for sentence in lst_token_romeo_sents[:10]:\n",
        "  print(sentence)\n",
        "\n",
        "# Print first words of each sentence\n",
        "for sentence in lst_token_romeo_sents[:10]:\n",
        "  print(f'{sentence[:3]}')"
      ],
      "metadata": {
        "colab": {
          "base_uri": "https://localhost:8080/"
        },
        "id": "zRbGoVg_4luE",
        "outputId": "246f8cfa-9c28-4e00-e386-d2810822981a"
      },
      "id": "zRbGoVg_4luE",
      "execution_count": 16,
      "outputs": [
        {
          "output_type": "stream",
          "name": "stdout",
          "text": [
            "﻿The Project Gutenberg eBook of Romeo and Juliet\n",
            "    \n",
            "\n",
            "This ebook is for the use of anyone anywhere in the United States and\n",
            "most other parts of the world at no cost and with almost no restrictions\n",
            "whatsoever.\n",
            "You may copy it, give it away or re-use it under the terms\n",
            "of the Project Gutenberg License included with this ebook or online\n",
            "at www.gutenberg.org.\n",
            "If you are not located in the United States,\n",
            "you will have to check the laws of the country where you are located\n",
            "before using this eBook.\n",
            "\n",
            "\n",
            "Title: Romeo and Juliet\n",
            "\n",
            "\n",
            "Author: William Shakespeare\n",
            "\n",
            "Release date: November 1, 1998 [eBook #1513]\n",
            "                Most recently updated: June 27, 2023\n",
            "\n",
            "Language: English\n",
            "\n",
            "\n",
            "\n",
            "*** START OF THE PROJECT GUTENBERG EBOOK ROMEO AND JULIET ***\n",
            "\n",
            "\n",
            "\n",
            "THE TRAGEDY OF ROMEO AND JULIET\n",
            "\n",
            "by William Shakespeare\n",
            "\n",
            "\n",
            "\n",
            "\n",
            "Contents\n",
            "\n",
            "THE PROLOGUE.\n",
            "\n",
            "\n",
            "ACT I\n",
            "Scene I. A public place.\n",
            "\n",
            "Scene II.\n",
            "A Street.\n",
            "\n",
            "Scene III.\n",
            "Room in Capulet’s House.\n",
            "\n",
            "﻿The Project Gutenberg\n",
            "This ebook is\n",
            "You may copy\n",
            "If you are\n",
            "Title: Romeo\n",
            "ACT I\n",
            "\n",
            "Scene II.\n",
            "A Street.\n",
            "Scene III.\n",
            "Room in Capulet\n"
          ]
        }
      ]
    },
    {
      "cell_type": "code",
      "source": [],
      "metadata": {
        "id": "7HitdLzd4l00"
      },
      "id": "7HitdLzd4l00",
      "execution_count": 16,
      "outputs": []
    },
    {
      "cell_type": "code",
      "source": [],
      "metadata": {
        "id": "i0Y513UQ4l7g"
      },
      "id": "i0Y513UQ4l7g",
      "execution_count": 16,
      "outputs": []
    },
    {
      "cell_type": "code",
      "source": [],
      "metadata": {
        "id": "IsBDBq7k4wWr"
      },
      "id": "IsBDBq7k4wWr",
      "execution_count": 16,
      "outputs": []
    },
    {
      "cell_type": "code",
      "source": [],
      "metadata": {
        "id": "jrvrv3S64wcT"
      },
      "id": "jrvrv3S64wcT",
      "execution_count": 16,
      "outputs": []
    },
    {
      "cell_type": "code",
      "source": [],
      "metadata": {
        "id": "gCMndL2X4whD"
      },
      "id": "gCMndL2X4whD",
      "execution_count": 16,
      "outputs": []
    },
    {
      "cell_type": "code",
      "source": [],
      "metadata": {
        "id": "Zeqfr2HW4wlb"
      },
      "id": "Zeqfr2HW4wlb",
      "execution_count": 16,
      "outputs": []
    },
    {
      "cell_type": "code",
      "source": [],
      "metadata": {
        "id": "ss-R9xyK4wo7"
      },
      "id": "ss-R9xyK4wo7",
      "execution_count": 16,
      "outputs": []
    },
    {
      "cell_type": "code",
      "source": [],
      "metadata": {
        "id": "cqekWJAo4wsr"
      },
      "id": "cqekWJAo4wsr",
      "execution_count": 16,
      "outputs": []
    },
    {
      "cell_type": "code",
      "source": [],
      "metadata": {
        "id": "7iAVSjlC4wxT"
      },
      "id": "7iAVSjlC4wxT",
      "execution_count": 16,
      "outputs": []
    },
    {
      "cell_type": "code",
      "source": [],
      "metadata": {
        "id": "N7CZ1jjq4w17"
      },
      "id": "N7CZ1jjq4w17",
      "execution_count": 16,
      "outputs": []
    },
    {
      "cell_type": "code",
      "source": [
        "# Make token object of string\n",
        "token_str_romeo = nlp(str_romeo)\n",
        "\n",
        "# Print the first 10 tokens\n",
        "print(f'{token_str_romeo[:10]}')\n",
        "\n",
        "# Explore tokens\n",
        "print(type(token_str_romeo))\n",
        "print(len(token_str_romeo))"
      ],
      "metadata": {
        "colab": {
          "base_uri": "https://localhost:8080/"
        },
        "id": "H_LVm3qF_icT",
        "outputId": "311bab32-eec4-4263-a6e5-7a3a186bf169"
      },
      "id": "H_LVm3qF_icT",
      "execution_count": 17,
      "outputs": [
        {
          "output_type": "stream",
          "name": "stdout",
          "text": [
            "﻿The Project Gutenberg eBook of Romeo and Juliet\n",
            "    \n",
            "This\n",
            "<class 'spacy.tokens.doc.Doc'>\n",
            "41485\n"
          ]
        }
      ]
    },
    {
      "cell_type": "code",
      "source": [
        "# Make list of span objects sentences using .sents property\n",
        "lst_span_token_str_romeo = list(token_str_romeo.sents)\n",
        "\n",
        "# Print the first 10 sentences in the list\n",
        "print(lst_span_token_str_romeo[:10])\n",
        "\n",
        "# Explore list\n",
        "print(type(lst_span_token_str_romeo))\n",
        "print(len(lst_span_token_str_romeo))\n"
      ],
      "metadata": {
        "colab": {
          "base_uri": "https://localhost:8080/"
        },
        "id": "WEi3V90O_ihw",
        "outputId": "8f6ed0ec-1033-40ce-8550-cd156eac87dd"
      },
      "id": "WEi3V90O_ihw",
      "execution_count": 18,
      "outputs": [
        {
          "output_type": "stream",
          "name": "stdout",
          "text": [
            "[﻿The Project Gutenberg eBook of Romeo and Juliet\n",
            "    \n",
            ", This ebook is for the use of anyone anywhere in the United States and\n",
            "most other parts of the world at no cost and with almost no restrictions\n",
            "whatsoever., You may copy it, give it away or re-use it under the terms\n",
            "of the Project Gutenberg License included with this ebook or online\n",
            "at www.gutenberg.org., If you are not located in the United States,\n",
            "you will have to check the laws of the country where you are located\n",
            "before using this eBook.\n",
            "\n",
            ", Title: Romeo and Juliet\n",
            "\n",
            "\n",
            "Author: William Shakespeare\n",
            "\n",
            "Release date: November 1, 1998 [eBook #1513]\n",
            "                Most recently updated: June 27, 2023\n",
            "\n",
            "Language: English\n",
            "\n",
            "\n",
            "\n",
            "*** START OF THE PROJECT GUTENBERG EBOOK ROMEO AND JULIET ***\n",
            "\n",
            "\n",
            "\n",
            "THE TRAGEDY OF ROMEO AND JULIET\n",
            "\n",
            "by William Shakespeare\n",
            "\n",
            "\n",
            "\n",
            "\n",
            "Contents\n",
            "\n",
            "THE PROLOGUE.\n",
            "\n",
            ", ACT I\n",
            "Scene I. A public place.\n",
            ", Scene II., A Street.\n",
            ", Scene III., Room in Capulet’s House.\n",
            "]\n",
            "<class 'list'>\n",
            "2841\n"
          ]
        }
      ]
    },
    {
      "cell_type": "code",
      "source": [],
      "metadata": {
        "id": "FJBfzR-lJ0Ck"
      },
      "id": "FJBfzR-lJ0Ck",
      "execution_count": 18,
      "outputs": []
    }
  ],
  "metadata": {
    "colab": {
      "provenance": [],
      "toc_visible": true,
      "include_colab_link": true
    },
    "kernelspec": {
      "display_name": "Python 3",
      "language": "python",
      "name": "python3"
    },
    "language_info": {
      "codemirror_mode": {
        "name": "ipython",
        "version": 3
      },
      "file_extension": ".py",
      "mimetype": "text/x-python",
      "name": "python",
      "nbconvert_exporter": "python",
      "pygments_lexer": "ipython3",
      "version": "3.7.12"
    },
    "papermill": {
      "default_parameters": {},
      "duration": 32.370124,
      "end_time": "2023-01-06T18:09:17.573764",
      "environment_variables": {},
      "exception": null,
      "input_path": "__notebook__.ipynb",
      "output_path": "__notebook__.ipynb",
      "parameters": {},
      "start_time": "2023-01-06T18:08:45.203640",
      "version": "2.3.4"
    }
  },
  "nbformat": 4,
  "nbformat_minor": 5
}